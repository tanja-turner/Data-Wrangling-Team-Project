{
 "cells": [
  {
   "cell_type": "markdown",
   "metadata": {},
   "source": [
    "# Table of Contents"
   ]
  },
  {
   "cell_type": "markdown",
   "metadata": {},
   "source": [
    "1. [PROBLEM DESCRIPTION](#prob)\n",
    "2. [THE DATASET](#dataset)\n",
    "3. [LOAD DATA](#load)\n",
    "    1. [Loading .csv files](#load_csv)\n",
    "    2. [Data Selection](#select)\n",
    "    3. [Web scraping](#load_txt)\n",
    "4. [GETTING TO KNOW THE DATA](#know)\n",
    "5. [DATA PREPARATION](#prep)\n",
    "    1. [IMDb movies](#prepmov)\n",
    "        1.\t[Rename Key Column]\n",
    "        2.\t[Data Selection]\n",
    "        3.\t[Data Conversion]\n",
    "    2.\t[IMDb Names](#prepname)\n",
    "        1.\t[Rename Key Column]\n",
    "        2.\t[Data Selection]\n",
    "        3.\t[Data Conversion]\n",
    "    3.\t[IMDb Ratings](#preprating)\n",
    "        1.\t[Rename Key Column]\n",
    "        2.\t[Data Selection]\n",
    "        3.\t[Data Conversion]\n",
    "    4.\t[IMDb title_principals](#preptitle)\n",
    "        1.\t[Rename Key Column]\n",
    "        2.\t[Data Selection]\n",
    "        3.\t[Data Conversion]\n",
    "    5.\t[Rotten Tomatoes Movies](#preprtmov)\n",
    "        1.\t[Data Selection]\n",
    "    6.\t[Rotten Tomatoes Critic Reviews](#prepcritic)\n",
    "        1.\t[Data Selection]\n",
    "        2.\t[Move Key Column]\n",
    "    7.\t[Box Office Earnings](#prepbox)\n",
    "        1.\t[Data Web Scraping]\n",
    "6.\t[GETTING READY TO COMBINE THE DATASETS](#ready)\n",
    "    1.\t[IMDb movies](#readymov)\n",
    "        1.\t[Verify Combine Key]\n",
    "    2.\t[IMDb Ratings and Rotten Tomatoes](#readyrating)\n",
    "        1.\t[Data Exploration]\n",
    "        2.\t[Data Filtering]\n",
    "        3.\t[Data Grouping and Aggregation]\n",
    "        4.\t[Verify Combine Key]\n",
    "    3.\t[IMDb principal](#readytitle)\n",
    "        1.\t[Data Filtering]\n",
    "        2.\t[Verify Combine Key]\n",
    "    4.\t[Box Office Revenues](#readybox)\n",
    "        1.\t[Data Exploration]\n",
    "        2.\t[Data Filtering]\n",
    "        3.\t[Verify Combine Key]\n",
    "7.\t[COMBINE THE DATASETS](#combine)\n",
    "8.\t[COMBINED DATA PREPARATION](#combineprep)\n",
    "    1.\t[Data Replacement]\n",
    "    2.\t[Initial Data Conversion]\n",
    "    3.\t[Redundant Data]\n",
    "    4.\t[Missing Data]\n",
    "    5.\t[Final Data Conversion]\n",
    "        1.\t[Convert to Integer]\n",
    "        2.\t[Round off Float]\n",
    "    6.\t[Rename Columns]\n",
    "    7.\t[Create Key Column]\n",
    "9.\t[FIND CORRELATIONS](#correlation)\n",
    "    1.\t[Correlations Plots]\n",
    "        1.\t[Positive Correlations Plot]\n",
    "        2.\t[Negative Correlations Plot]\n",
    "    2.\t[Correlations Analysis]\n"
   ]
  },
  {
   "cell_type": "markdown",
   "metadata": {},
   "source": []
  },
  {
   "cell_type": "markdown",
   "metadata": {},
   "source": [
    "# PROBLEM DESCRIPTION<a id='prob'></a>"
   ]
  },
  {
   "cell_type": "markdown",
   "metadata": {},
   "source": [
    "There’s no ideal dataset which all information needed are already in one file. Hence, we collated some dataset from different sources to obtain the needed data in this project. We would walk through the process from the data acquisition to building of models resulting to our data analysis. In this project, we would use IMDb dataset and Rotten Tomato dataset where we would compile, clean and transform the data to be ready for model creation. "
   ]
  },
  {
   "cell_type": "markdown",
   "metadata": {},
   "source": [
    "As data analytics students, we wanted to investigate the business side of movies and explore the formula behind what makes a successful movie. A successful movie does not only generate a high box office revenues but also produced a good quality film that critics love due to the impact it leaves to the audience. There’s a lot of factors involved such as great directing, superb actor performance or heartfelt story plot but not all of them can guarantee a highly rated imdb score or win an Academy Awards. "
   ]
  },
  {
   "cell_type": "markdown",
   "metadata": {},
   "source": [
    "We would like to explore the dataset by trying to answer the following questions:\n",
    "1.\tWhich factors impact a film's success at the box office?\n",
    "2.\tWhich movies are box office hit and have highest return in income? Why?\n",
    "3.\tWhich movies have the potential to be nominated or win an award?"
   ]
  },
  {
   "cell_type": "markdown",
   "metadata": {},
   "source": [
    "# THE DATA<a id='data'></a>"
   ]
  },
  {
   "cell_type": "markdown",
   "metadata": {},
   "source": [
    "The IMDb and Rotten Tomatoes dataset were obtained from Kaggle website. You may find theirs description variables in the separate text file. IMDb is an online source database for movies and other entertainment content. It includes Metascore ratings, critic and user ratings as well. Rotten Tomatoes is an American review collection online website for film and television. The obtained different sources consist of following main datasets:\n"
   ]
  },
  {
   "cell_type": "markdown",
   "metadata": {},
   "source": [
    "### IMDb Datasets:\n",
    "- __IMDb movies__ – composed of 22 variables and 85,855 observations. It provides further information per movie in terms of description, average rating, number of votes, genre, and others.\n",
    "- __IMDb ratings__ – consist of 85,855 rating details and 49 variables from demographic areas such as number of votes per gender and per rating.\n",
    "- __IMDb names__ - includes 297,705 cast members with biographic data such as birth details, death details, height, and family information.\n",
    "- __IMDb title principals__ – represents the 835,513 cast members roles in movies with 6 variables such as IMDb title id, IMDb name id, order of importance in the movie, role, and characters played.\n"
   ]
  },
  {
   "cell_type": "markdown",
   "metadata": {},
   "source": [
    "### Rotten Tomatoes Datasets:\n",
    "- __Rotten_tomatoes_movies__ – consist of 22 variables and 17,713 observations. Each item represents a movie information such as description, genre, directors, actors, user’s rating and critics’ rating. \n",
    "- __Rotten_tomatoes_critic_reviews__ - has 8 variables and 1,048,576 observations. Each record refers to a critic review details which were published on Rotten Tomatoes website including critic name, review publication, date, score and content.\n"
   ]
  },
  {
   "cell_type": "markdown",
   "metadata": {},
   "source": [
    "### Box Office Revenue Balances:\n",
    "We will be web scraping the financial information of box office revenues from the Box Office Mojo website. Box Office Mojo website is online database that holds records of worldwide box office revenue in a systematic, algorithmic way. \n",
    "\n",
    "We will be focusing our analysis to worldwide gross, which is how much the film earned worldwide at the box office during its initial run. This figure is in nominal terms, and will need to be transformed into real terms. Also, this exlcludes revenue from DVD rentals, television runs, and others as we will be focusing our analysis on films produced only.\n"
   ]
  },
  {
   "cell_type": "markdown",
   "metadata": {},
   "source": [
    "# LOAD DATA<a id='load'></a>"
   ]
  },
  {
   "cell_type": "code",
   "execution_count": null,
   "metadata": {},
   "outputs": [],
   "source": []
  }
 ],
 "metadata": {
  "kernelspec": {
   "display_name": "Python 3",
   "language": "python",
   "name": "python3"
  },
  "language_info": {
   "codemirror_mode": {
    "name": "ipython",
    "version": 3
   },
   "file_extension": ".py",
   "mimetype": "text/x-python",
   "name": "python",
   "nbconvert_exporter": "python",
   "pygments_lexer": "ipython3",
   "version": "3.8.3"
  }
 },
 "nbformat": 4,
 "nbformat_minor": 4
}
